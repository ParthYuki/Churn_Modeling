{
 "cells": [
  {
   "cell_type": "markdown",
   "id": "2424a2d8",
   "metadata": {},
   "source": [
    "# 6) Implementing ANN model on Finance domain dataset i.e. Churn_Modelling.csv"
   ]
  },
  {
   "cell_type": "markdown",
   "id": "62423169",
   "metadata": {},
   "source": [
    "## 1. Import necessary libraries"
   ]
  },
  {
   "cell_type": "code",
   "execution_count": 35,
   "id": "77fcff48",
   "metadata": {},
   "outputs": [],
   "source": [
    "import numpy as np\n",
    "import pandas as pd\n",
    "import tensorflow as tf\n",
    "import seaborn as sns\n",
    "import matplotlib.pyplot as plt"
   ]
  },
  {
   "cell_type": "markdown",
   "id": "4abd7f87",
   "metadata": {},
   "source": [
    "## 2. Read Dataset"
   ]
  },
  {
   "cell_type": "code",
   "execution_count": 36,
   "id": "902e85b3",
   "metadata": {},
   "outputs": [],
   "source": [
    "data = pd.read_csv(\"Churn_Modelling.csv\")"
   ]
  },
  {
   "cell_type": "code",
   "execution_count": 37,
   "id": "ef3e928f",
   "metadata": {},
   "outputs": [
    {
     "name": "stdout",
     "output_type": "stream",
     "text": [
      "<class 'pandas.core.frame.DataFrame'>\n",
      "RangeIndex: 10000 entries, 0 to 9999\n",
      "Data columns (total 14 columns):\n",
      " #   Column           Non-Null Count  Dtype  \n",
      "---  ------           --------------  -----  \n",
      " 0   RowNumber        10000 non-null  int64  \n",
      " 1   CustomerId       10000 non-null  int64  \n",
      " 2   Surname          10000 non-null  object \n",
      " 3   CreditScore      10000 non-null  int64  \n",
      " 4   Geography        10000 non-null  object \n",
      " 5   Gender           10000 non-null  object \n",
      " 6   Age              10000 non-null  int64  \n",
      " 7   Tenure           10000 non-null  int64  \n",
      " 8   Balance          10000 non-null  float64\n",
      " 9   NumOfProducts    10000 non-null  int64  \n",
      " 10  HasCrCard        10000 non-null  int64  \n",
      " 11  IsActiveMember   10000 non-null  int64  \n",
      " 12  EstimatedSalary  10000 non-null  float64\n",
      " 13  Exited           10000 non-null  int64  \n",
      "dtypes: float64(2), int64(9), object(3)\n",
      "memory usage: 1.1+ MB\n"
     ]
    }
   ],
   "source": [
    "data.info()"
   ]
  },
  {
   "cell_type": "markdown",
   "id": "0ef74d50",
   "metadata": {},
   "source": [
    "### 2.1 Analyzing the data"
   ]
  },
  {
   "cell_type": "code",
   "execution_count": 38,
   "id": "8e55a6d5",
   "metadata": {},
   "outputs": [
    {
     "data": {
      "text/html": [
       "<div>\n",
       "<style scoped>\n",
       "    .dataframe tbody tr th:only-of-type {\n",
       "        vertical-align: middle;\n",
       "    }\n",
       "\n",
       "    .dataframe tbody tr th {\n",
       "        vertical-align: top;\n",
       "    }\n",
       "\n",
       "    .dataframe thead th {\n",
       "        text-align: right;\n",
       "    }\n",
       "</style>\n",
       "<table border=\"1\" class=\"dataframe\">\n",
       "  <thead>\n",
       "    <tr style=\"text-align: right;\">\n",
       "      <th></th>\n",
       "      <th>RowNumber</th>\n",
       "      <th>CustomerId</th>\n",
       "      <th>Surname</th>\n",
       "      <th>CreditScore</th>\n",
       "      <th>Geography</th>\n",
       "      <th>Gender</th>\n",
       "      <th>Age</th>\n",
       "      <th>Tenure</th>\n",
       "      <th>Balance</th>\n",
       "      <th>NumOfProducts</th>\n",
       "      <th>HasCrCard</th>\n",
       "      <th>IsActiveMember</th>\n",
       "      <th>EstimatedSalary</th>\n",
       "      <th>Exited</th>\n",
       "    </tr>\n",
       "  </thead>\n",
       "  <tbody>\n",
       "    <tr>\n",
       "      <th>1484</th>\n",
       "      <td>1485</td>\n",
       "      <td>15607713</td>\n",
       "      <td>Kaeppel</td>\n",
       "      <td>850</td>\n",
       "      <td>Spain</td>\n",
       "      <td>Female</td>\n",
       "      <td>29</td>\n",
       "      <td>1</td>\n",
       "      <td>0.00</td>\n",
       "      <td>2</td>\n",
       "      <td>1</td>\n",
       "      <td>1</td>\n",
       "      <td>197996.65</td>\n",
       "      <td>0</td>\n",
       "    </tr>\n",
       "    <tr>\n",
       "      <th>256</th>\n",
       "      <td>257</td>\n",
       "      <td>15636684</td>\n",
       "      <td>Kirkland</td>\n",
       "      <td>727</td>\n",
       "      <td>France</td>\n",
       "      <td>Male</td>\n",
       "      <td>34</td>\n",
       "      <td>10</td>\n",
       "      <td>0.00</td>\n",
       "      <td>2</td>\n",
       "      <td>1</td>\n",
       "      <td>1</td>\n",
       "      <td>198637.34</td>\n",
       "      <td>0</td>\n",
       "    </tr>\n",
       "    <tr>\n",
       "      <th>9927</th>\n",
       "      <td>9928</td>\n",
       "      <td>15759915</td>\n",
       "      <td>Rapuokwu</td>\n",
       "      <td>814</td>\n",
       "      <td>France</td>\n",
       "      <td>Female</td>\n",
       "      <td>31</td>\n",
       "      <td>6</td>\n",
       "      <td>87772.52</td>\n",
       "      <td>1</td>\n",
       "      <td>1</td>\n",
       "      <td>0</td>\n",
       "      <td>188516.45</td>\n",
       "      <td>0</td>\n",
       "    </tr>\n",
       "    <tr>\n",
       "      <th>5623</th>\n",
       "      <td>5624</td>\n",
       "      <td>15696812</td>\n",
       "      <td>Lazareva</td>\n",
       "      <td>586</td>\n",
       "      <td>Spain</td>\n",
       "      <td>Male</td>\n",
       "      <td>42</td>\n",
       "      <td>6</td>\n",
       "      <td>0.00</td>\n",
       "      <td>2</td>\n",
       "      <td>1</td>\n",
       "      <td>1</td>\n",
       "      <td>123410.23</td>\n",
       "      <td>0</td>\n",
       "    </tr>\n",
       "    <tr>\n",
       "      <th>4942</th>\n",
       "      <td>4943</td>\n",
       "      <td>15784687</td>\n",
       "      <td>Simmons</td>\n",
       "      <td>592</td>\n",
       "      <td>France</td>\n",
       "      <td>Male</td>\n",
       "      <td>36</td>\n",
       "      <td>1</td>\n",
       "      <td>126477.42</td>\n",
       "      <td>1</td>\n",
       "      <td>0</td>\n",
       "      <td>0</td>\n",
       "      <td>179718.17</td>\n",
       "      <td>0</td>\n",
       "    </tr>\n",
       "  </tbody>\n",
       "</table>\n",
       "</div>"
      ],
      "text/plain": [
       "      RowNumber  CustomerId   Surname  CreditScore Geography  Gender  Age   \n",
       "1484       1485    15607713   Kaeppel          850     Spain  Female   29  \\\n",
       "256         257    15636684  Kirkland          727    France    Male   34   \n",
       "9927       9928    15759915  Rapuokwu          814    France  Female   31   \n",
       "5623       5624    15696812  Lazareva          586     Spain    Male   42   \n",
       "4942       4943    15784687   Simmons          592    France    Male   36   \n",
       "\n",
       "      Tenure    Balance  NumOfProducts  HasCrCard  IsActiveMember   \n",
       "1484       1       0.00              2          1               1  \\\n",
       "256       10       0.00              2          1               1   \n",
       "9927       6   87772.52              1          1               0   \n",
       "5623       6       0.00              2          1               1   \n",
       "4942       1  126477.42              1          0               0   \n",
       "\n",
       "      EstimatedSalary  Exited  \n",
       "1484        197996.65       0  \n",
       "256         198637.34       0  \n",
       "9927        188516.45       0  \n",
       "5623        123410.23       0  \n",
       "4942        179718.17       0  "
      ]
     },
     "execution_count": 38,
     "metadata": {},
     "output_type": "execute_result"
    }
   ],
   "source": [
    "data.sample(5)"
   ]
  },
  {
   "cell_type": "code",
   "execution_count": 39,
   "id": "c60aae65",
   "metadata": {},
   "outputs": [
    {
     "data": {
      "text/plain": [
       "Index(['RowNumber', 'CustomerId', 'Surname', 'CreditScore', 'Geography',\n",
       "       'Gender', 'Age', 'Tenure', 'Balance', 'NumOfProducts', 'HasCrCard',\n",
       "       'IsActiveMember', 'EstimatedSalary', 'Exited'],\n",
       "      dtype='object')"
      ]
     },
     "execution_count": 39,
     "metadata": {},
     "output_type": "execute_result"
    }
   ],
   "source": [
    "data.columns"
   ]
  },
  {
   "cell_type": "code",
   "execution_count": 40,
   "id": "5073f3a1",
   "metadata": {},
   "outputs": [
    {
     "data": {
      "text/plain": [
       "0"
      ]
     },
     "execution_count": 40,
     "metadata": {},
     "output_type": "execute_result"
    }
   ],
   "source": [
    "data.duplicated().sum()"
   ]
  },
  {
   "cell_type": "code",
   "execution_count": 41,
   "id": "45fc3480",
   "metadata": {},
   "outputs": [
    {
     "data": {
      "text/plain": [
       "Gender\n",
       "Male      5457\n",
       "Female    4543\n",
       "Name: count, dtype: int64"
      ]
     },
     "execution_count": 41,
     "metadata": {},
     "output_type": "execute_result"
    }
   ],
   "source": [
    "data['Gender'].value_counts()"
   ]
  },
  {
   "cell_type": "code",
   "execution_count": 42,
   "id": "bc442d65",
   "metadata": {},
   "outputs": [
    {
     "data": {
      "text/plain": [
       "Geography\n",
       "France     5014\n",
       "Germany    2509\n",
       "Spain      2477\n",
       "Name: count, dtype: int64"
      ]
     },
     "execution_count": 42,
     "metadata": {},
     "output_type": "execute_result"
    }
   ],
   "source": [
    "data['Geography'].value_counts()"
   ]
  },
  {
   "cell_type": "markdown",
   "id": "16bd7b68",
   "metadata": {},
   "source": [
    "## 3. Correlation Matrix"
   ]
  },
  {
   "cell_type": "code",
   "execution_count": 43,
   "id": "2b90d35e",
   "metadata": {},
   "outputs": [
    {
     "name": "stdout",
     "output_type": "stream",
     "text": [
      "                 RowNumber  CustomerId  CreditScore       Age    Tenure   \n",
      "RowNumber         1.000000    0.004202     0.005840  0.000783 -0.006495  \\\n",
      "CustomerId        0.004202    1.000000     0.005308  0.009497 -0.014883   \n",
      "CreditScore       0.005840    0.005308     1.000000 -0.003965  0.000842   \n",
      "Age               0.000783    0.009497    -0.003965  1.000000 -0.009997   \n",
      "Tenure           -0.006495   -0.014883     0.000842 -0.009997  1.000000   \n",
      "Balance          -0.009067   -0.012419     0.006268  0.028308 -0.012254   \n",
      "NumOfProducts     0.007246    0.016972     0.012238 -0.030680  0.013444   \n",
      "HasCrCard         0.000599   -0.014025    -0.005458 -0.011721  0.022583   \n",
      "IsActiveMember    0.012044    0.001665     0.025651  0.085472 -0.028362   \n",
      "EstimatedSalary  -0.005988    0.015271    -0.001384 -0.007201  0.007784   \n",
      "Exited           -0.016571   -0.006248    -0.027094  0.285323 -0.014001   \n",
      "\n",
      "                  Balance  NumOfProducts  HasCrCard  IsActiveMember   \n",
      "RowNumber       -0.009067       0.007246   0.000599        0.012044  \\\n",
      "CustomerId      -0.012419       0.016972  -0.014025        0.001665   \n",
      "CreditScore      0.006268       0.012238  -0.005458        0.025651   \n",
      "Age              0.028308      -0.030680  -0.011721        0.085472   \n",
      "Tenure          -0.012254       0.013444   0.022583       -0.028362   \n",
      "Balance          1.000000      -0.304180  -0.014858       -0.010084   \n",
      "NumOfProducts   -0.304180       1.000000   0.003183        0.009612   \n",
      "HasCrCard       -0.014858       0.003183   1.000000       -0.011866   \n",
      "IsActiveMember  -0.010084       0.009612  -0.011866        1.000000   \n",
      "EstimatedSalary  0.012797       0.014204  -0.009933       -0.011421   \n",
      "Exited           0.118533      -0.047820  -0.007138       -0.156128   \n",
      "\n",
      "                 EstimatedSalary    Exited  \n",
      "RowNumber              -0.005988 -0.016571  \n",
      "CustomerId              0.015271 -0.006248  \n",
      "CreditScore            -0.001384 -0.027094  \n",
      "Age                    -0.007201  0.285323  \n",
      "Tenure                  0.007784 -0.014001  \n",
      "Balance                 0.012797  0.118533  \n",
      "NumOfProducts           0.014204 -0.047820  \n",
      "HasCrCard              -0.009933 -0.007138  \n",
      "IsActiveMember         -0.011421 -0.156128  \n",
      "EstimatedSalary         1.000000  0.012097  \n",
      "Exited                  0.012097  1.000000  \n"
     ]
    }
   ],
   "source": [
    "data_num = data.drop(columns=['Surname','Geography','Gender'])\n",
    "corr_matrix = data_num.corr()\n",
    "print(corr_matrix)"
   ]
  },
  {
   "cell_type": "code",
   "execution_count": 44,
   "id": "beb6322d",
   "metadata": {},
   "outputs": [
    {
     "data": {
      "image/png": "[encoded data removed]",
      "text/plain": [
       "<Figure size 1000x1000 with 1 Axes>"
      ]
     },
     "metadata": {},
     "output_type": "display_data"
    }
   ],
   "source": [
    "plt.figure(figsize=(10,10))\n",
    "sns.heatmap(corr_matrix,annot=True, cbar=False, cmap='viridis')\n",
    "plt.title(\"Correlation Matrix\")\n",
    "plt.show()"
   ]
  },
  {
   "cell_type": "markdown",
   "id": "fd2104fd",
   "metadata": {},
   "source": [
    "### 3.1 Encoding of dataset"
   ]
  },
  {
   "cell_type": "code",
   "execution_count": 82,
   "id": "5417ddc4",
   "metadata": {},
   "outputs": [],
   "source": [
    "df = pd.get_dummies(data,columns=['Geography','Gender'],drop_first=True)"
   ]
  },
  {
   "cell_type": "code",
   "execution_count": 94,
   "id": "c7441bcd",
   "metadata": {},
   "outputs": [
    {
     "data": {
      "text/html": [
       "<div>\n",
       "<style scoped>\n",
       "    .dataframe tbody tr th:only-of-type {\n",
       "        vertical-align: middle;\n",
       "    }\n",
       "\n",
       "    .dataframe tbody tr th {\n",
       "        vertical-align: top;\n",
       "    }\n",
       "\n",
       "    .dataframe thead th {\n",
       "        text-align: right;\n",
       "    }\n",
       "</style>\n",
       "<table border=\"1\" class=\"dataframe\">\n",
       "  <thead>\n",
       "    <tr style=\"text-align: right;\">\n",
       "      <th></th>\n",
       "      <th>RowNumber</th>\n",
       "      <th>CustomerId</th>\n",
       "      <th>Surname</th>\n",
       "      <th>CreditScore</th>\n",
       "      <th>Age</th>\n",
       "      <th>Tenure</th>\n",
       "      <th>Balance</th>\n",
       "      <th>NumOfProducts</th>\n",
       "      <th>HasCrCard</th>\n",
       "      <th>IsActiveMember</th>\n",
       "      <th>EstimatedSalary</th>\n",
       "      <th>Exited</th>\n",
       "      <th>Geography_Germany</th>\n",
       "      <th>Geography_Spain</th>\n",
       "      <th>Gender_Male</th>\n",
       "    </tr>\n",
       "  </thead>\n",
       "  <tbody>\n",
       "    <tr>\n",
       "      <th>787</th>\n",
       "      <td>788</td>\n",
       "      <td>15694366</td>\n",
       "      <td>Hou</td>\n",
       "      <td>714</td>\n",
       "      <td>42</td>\n",
       "      <td>2</td>\n",
       "      <td>177640.09</td>\n",
       "      <td>1</td>\n",
       "      <td>0</td>\n",
       "      <td>1</td>\n",
       "      <td>47166.55</td>\n",
       "      <td>0</td>\n",
       "      <td>True</td>\n",
       "      <td>False</td>\n",
       "      <td>True</td>\n",
       "    </tr>\n",
       "    <tr>\n",
       "      <th>1321</th>\n",
       "      <td>1322</td>\n",
       "      <td>15704483</td>\n",
       "      <td>Lorenzo</td>\n",
       "      <td>724</td>\n",
       "      <td>40</td>\n",
       "      <td>6</td>\n",
       "      <td>0.00</td>\n",
       "      <td>2</td>\n",
       "      <td>0</td>\n",
       "      <td>0</td>\n",
       "      <td>106149.48</td>\n",
       "      <td>0</td>\n",
       "      <td>False</td>\n",
       "      <td>False</td>\n",
       "      <td>True</td>\n",
       "    </tr>\n",
       "    <tr>\n",
       "      <th>435</th>\n",
       "      <td>436</td>\n",
       "      <td>15581197</td>\n",
       "      <td>Ricci</td>\n",
       "      <td>762</td>\n",
       "      <td>51</td>\n",
       "      <td>3</td>\n",
       "      <td>99286.98</td>\n",
       "      <td>1</td>\n",
       "      <td>0</td>\n",
       "      <td>1</td>\n",
       "      <td>85578.63</td>\n",
       "      <td>0</td>\n",
       "      <td>False</td>\n",
       "      <td>False</td>\n",
       "      <td>False</td>\n",
       "    </tr>\n",
       "    <tr>\n",
       "      <th>6422</th>\n",
       "      <td>6423</td>\n",
       "      <td>15595037</td>\n",
       "      <td>Palermo</td>\n",
       "      <td>772</td>\n",
       "      <td>47</td>\n",
       "      <td>9</td>\n",
       "      <td>152347.01</td>\n",
       "      <td>1</td>\n",
       "      <td>0</td>\n",
       "      <td>1</td>\n",
       "      <td>17671.78</td>\n",
       "      <td>0</td>\n",
       "      <td>False</td>\n",
       "      <td>False</td>\n",
       "      <td>True</td>\n",
       "    </tr>\n",
       "    <tr>\n",
       "      <th>8519</th>\n",
       "      <td>8520</td>\n",
       "      <td>15633525</td>\n",
       "      <td>Payne</td>\n",
       "      <td>631</td>\n",
       "      <td>29</td>\n",
       "      <td>7</td>\n",
       "      <td>0.00</td>\n",
       "      <td>2</td>\n",
       "      <td>0</td>\n",
       "      <td>1</td>\n",
       "      <td>125877.22</td>\n",
       "      <td>0</td>\n",
       "      <td>False</td>\n",
       "      <td>False</td>\n",
       "      <td>True</td>\n",
       "    </tr>\n",
       "  </tbody>\n",
       "</table>\n",
       "</div>"
      ],
      "text/plain": [
       "      RowNumber  CustomerId  Surname  CreditScore  Age  Tenure    Balance   \n",
       "787         788    15694366      Hou          714   42       2  177640.09  \\\n",
       "1321       1322    15704483  Lorenzo          724   40       6       0.00   \n",
       "435         436    15581197    Ricci          762   51       3   99286.98   \n",
       "6422       6423    15595037  Palermo          772   47       9  152347.01   \n",
       "8519       8520    15633525    Payne          631   29       7       0.00   \n",
       "\n",
       "      NumOfProducts  HasCrCard  IsActiveMember  EstimatedSalary  Exited   \n",
       "787               1          0               1         47166.55       0  \\\n",
       "1321              2          0               0        106149.48       0   \n",
       "435               1          0               1         85578.63       0   \n",
       "6422              1          0               1         17671.78       0   \n",
       "8519              2          0               1        125877.22       0   \n",
       "\n",
       "      Geography_Germany  Geography_Spain  Gender_Male  \n",
       "787                True            False         True  \n",
       "1321              False            False         True  \n",
       "435               False            False        False  \n",
       "6422              False            False         True  \n",
       "8519              False            False         True  "
      ]
     },
     "execution_count": 94,
     "metadata": {},
     "output_type": "execute_result"
    }
   ],
   "source": [
    "df.drop(columns=['Surname'])\n",
    "df.sample(5)"
   ]
  },
  {
   "cell_type": "markdown",
   "id": "e2c42e38",
   "metadata": {},
   "source": [
    "## 4. Generating dependent variable Y and independent variable X"
   ]
  },
  {
   "cell_type": "code",
   "execution_count": 87,
   "id": "7ac0d429",
   "metadata": {},
   "outputs": [
    {
     "data": {
      "text/plain": [
       "Index(['CreditScore', 'Age', 'Tenure', 'Balance', 'NumOfProducts', 'HasCrCard',\n",
       "       'IsActiveMember', 'EstimatedSalary', 'Geography_Germany',\n",
       "       'Geography_Spain', 'Gender_Male'],\n",
       "      dtype='object')"
      ]
     },
     "execution_count": 87,
     "metadata": {},
     "output_type": "execute_result"
    }
   ],
   "source": [
    "X = df.drop(columns=['RowNumber', 'CustomerId', 'Surname', 'Exited'])\n",
    "y = df['Exited']\n",
    "X.columns"
   ]
  },
  {
   "cell_type": "markdown",
   "id": "88377970",
   "metadata": {},
   "source": [
    "## 5. Splitting the dataset"
   ]
  },
  {
   "cell_type": "code",
   "execution_count": 88,
   "id": "0e70607a",
   "metadata": {},
   "outputs": [],
   "source": [
    "from sklearn.model_selection import train_test_split\n",
    "X_train,X_test,y_train,y_test = train_test_split(X,y,random_state=24,test_size=0.3)"
   ]
  },
  {
   "cell_type": "code",
   "execution_count": 89,
   "id": "dd3f3149",
   "metadata": {},
   "outputs": [
    {
     "data": {
      "text/plain": [
       "10000"
      ]
     },
     "execution_count": 89,
     "metadata": {},
     "output_type": "execute_result"
    }
   ],
   "source": [
    "len(X)"
   ]
  },
  {
   "cell_type": "code",
   "execution_count": 90,
   "id": "ce7c2d82",
   "metadata": {},
   "outputs": [
    {
     "data": {
      "text/plain": [
       "7000"
      ]
     },
     "execution_count": 90,
     "metadata": {},
     "output_type": "execute_result"
    }
   ],
   "source": [
    "len(X_train)"
   ]
  },
  {
   "cell_type": "code",
   "execution_count": 91,
   "id": "34b091b3",
   "metadata": {},
   "outputs": [
    {
     "data": {
      "text/plain": [
       "3000"
      ]
     },
     "execution_count": 91,
     "metadata": {},
     "output_type": "execute_result"
    }
   ],
   "source": [
    "len(X_test)"
   ]
  },
  {
   "cell_type": "markdown",
   "id": "1f1d3086",
   "metadata": {},
   "source": [
    "# 6. Performing Feature Scaling"
   ]
  },
  {
   "cell_type": "code",
   "execution_count": 92,
   "id": "99dd9611",
   "metadata": {},
   "outputs": [],
   "source": [
    "from sklearn.preprocessing import StandardScaler\n",
    "sc = StandardScaler()\n",
    "X_train = sc.fit_transform(X_train)\n",
    "X_test = sc.fit_transform(X_test)"
   ]
  },
  {
   "cell_type": "code",
   "execution_count": 93,
   "id": "42128678",
   "metadata": {},
   "outputs": [
    {
     "data": {
      "text/plain": [
       "array([[ 1.40152438,  2.16760377,  1.03192618, ..., -0.57691038,\n",
       "        -0.56833205, -1.10299265],\n",
       "       [ 2.06329875, -0.28149877,  0.33859381, ..., -0.57691038,\n",
       "         1.75953475,  0.90662436],\n",
       "       [ 0.9051936 ,  1.69662251,  1.37859236, ...,  1.73337147,\n",
       "        -0.56833205, -1.10299265],\n",
       "       ...,\n",
       "       [ 0.32614102,  0.28367874, -1.74140328, ..., -0.57691038,\n",
       "        -0.56833205, -1.10299265],\n",
       "       [-0.55277807,  0.37787499, -1.04807091, ..., -0.57691038,\n",
       "         1.75953475,  0.90662436],\n",
       "       [ 0.06763541, -1.31765754, -1.04807091, ...,  1.73337147,\n",
       "        -0.56833205,  0.90662436]])"
      ]
     },
     "execution_count": 93,
     "metadata": {},
     "output_type": "execute_result"
    }
   ],
   "source": [
    "X_train"
   ]
  },
  {
   "cell_type": "markdown",
   "id": "5084990c",
   "metadata": {},
   "source": [
    "## 7. Implementation ANN model."
   ]
  },
  {
   "cell_type": "code",
   "execution_count": 101,
   "id": "afb48f91",
   "metadata": {},
   "outputs": [],
   "source": [
    "ann = tf.keras.models.Sequential()\n",
    "ann.add(tf.keras.layers.Dense(units=6,activation='relu'))\n",
    "ann.add(tf.keras.layers.Dense(units=6,activation='relu'))\n",
    "ann.add(tf.keras.layers.Dense(units=6,activation='relu'))\n",
    "ann.add(tf.keras.layers.Dense(units=1,activation='relu'))"
   ]
  },
  {
   "cell_type": "code",
   "execution_count": 102,
   "id": "39ec9654",
   "metadata": {},
   "outputs": [],
   "source": [
    "ann.compile(optimizer='adam',loss='binary_crossentropy',metrics=['accuracy'])"
   ]
  },
  {
   "cell_type": "code",
   "execution_count": 103,
   "id": "6a21a6a2",
   "metadata": {},
   "outputs": [
    {
     "name": "stdout",
     "output_type": "stream",
     "text": [
      "Epoch 1/100\n",
      "219/219 [==============================] - 1s 1ms/step - loss: 0.7512 - accuracy: 0.7670\n",
      "Epoch 2/100\n",
      "219/219 [==============================] - 0s 1ms/step - loss: 0.5724 - accuracy: 0.7834\n",
      "Epoch 3/100\n",
      "219/219 [==============================] - 0s 1ms/step - loss: 0.5378 - accuracy: 0.7759\n",
      "Epoch 4/100\n",
      "219/219 [==============================] - 0s 1ms/step - loss: 0.5293 - accuracy: 0.7773\n",
      "Epoch 5/100\n",
      "219/219 [==============================] - 0s 1ms/step - loss: 0.5231 - accuracy: 0.7873\n",
      "Epoch 6/100\n",
      "219/219 [==============================] - 0s 1ms/step - loss: 0.5184 - accuracy: 0.7914\n",
      "Epoch 7/100\n",
      "219/219 [==============================] - 0s 1ms/step - loss: 0.5165 - accuracy: 0.7920\n",
      "Epoch 8/100\n",
      "219/219 [==============================] - 0s 1ms/step - loss: 0.5129 - accuracy: 0.7920\n",
      "Epoch 9/100\n",
      "219/219 [==============================] - 0s 1ms/step - loss: 0.5073 - accuracy: 0.7934\n",
      "Epoch 10/100\n",
      "219/219 [==============================] - 0s 1ms/step - loss: 0.5025 - accuracy: 0.7949\n",
      "Epoch 11/100\n",
      "219/219 [==============================] - 0s 1ms/step - loss: 0.4976 - accuracy: 0.7960\n",
      "Epoch 12/100\n",
      "219/219 [==============================] - 0s 1ms/step - loss: 0.4926 - accuracy: 0.7971\n",
      "Epoch 13/100\n",
      "219/219 [==============================] - 0s 1ms/step - loss: 0.4858 - accuracy: 0.7970\n",
      "Epoch 14/100\n",
      "219/219 [==============================] - 0s 1ms/step - loss: 0.4798 - accuracy: 0.8006\n",
      "Epoch 15/100\n",
      "219/219 [==============================] - 0s 1ms/step - loss: 0.4742 - accuracy: 0.8041\n",
      "Epoch 16/100\n",
      "219/219 [==============================] - 0s 1ms/step - loss: 0.4737 - accuracy: 0.8043\n",
      "Epoch 17/100\n",
      "219/219 [==============================] - 0s 1ms/step - loss: 0.4640 - accuracy: 0.8070\n",
      "Epoch 18/100\n",
      "219/219 [==============================] - 0s 1ms/step - loss: 0.4589 - accuracy: 0.8103\n",
      "Epoch 19/100\n",
      "219/219 [==============================] - 0s 1ms/step - loss: 0.4520 - accuracy: 0.8120\n",
      "Epoch 20/100\n",
      "219/219 [==============================] - 0s 1ms/step - loss: 0.4481 - accuracy: 0.8096\n",
      "Epoch 21/100\n",
      "219/219 [==============================] - 0s 1ms/step - loss: 0.4470 - accuracy: 0.8130\n",
      "Epoch 22/100\n",
      "219/219 [==============================] - 0s 1ms/step - loss: 0.4407 - accuracy: 0.8121\n",
      "Epoch 23/100\n",
      "219/219 [==============================] - 0s 1ms/step - loss: 0.4385 - accuracy: 0.8107\n",
      "Epoch 24/100\n",
      "219/219 [==============================] - 0s 1ms/step - loss: 0.4330 - accuracy: 0.8146\n",
      "Epoch 25/100\n",
      "219/219 [==============================] - 0s 1ms/step - loss: 0.4315 - accuracy: 0.8156\n",
      "Epoch 26/100\n",
      "219/219 [==============================] - 0s 1ms/step - loss: 0.4302 - accuracy: 0.8166\n",
      "Epoch 27/100\n",
      "219/219 [==============================] - 0s 1ms/step - loss: 0.4262 - accuracy: 0.8161\n",
      "Epoch 28/100\n",
      "219/219 [==============================] - 0s 1ms/step - loss: 0.4234 - accuracy: 0.8169\n",
      "Epoch 29/100\n",
      "219/219 [==============================] - 0s 1ms/step - loss: 0.4208 - accuracy: 0.8170\n",
      "Epoch 30/100\n",
      "219/219 [==============================] - 0s 1ms/step - loss: 0.4200 - accuracy: 0.8174\n",
      "Epoch 31/100\n",
      "219/219 [==============================] - 0s 1ms/step - loss: 0.4163 - accuracy: 0.8193\n",
      "Epoch 32/100\n",
      "219/219 [==============================] - 0s 1ms/step - loss: 0.4139 - accuracy: 0.8186\n",
      "Epoch 33/100\n",
      "219/219 [==============================] - 0s 1ms/step - loss: 0.4126 - accuracy: 0.8191\n",
      "Epoch 34/100\n",
      "219/219 [==============================] - 0s 1ms/step - loss: 0.4138 - accuracy: 0.8207\n",
      "Epoch 35/100\n",
      "219/219 [==============================] - 0s 1ms/step - loss: 0.4096 - accuracy: 0.8227\n",
      "Epoch 36/100\n",
      "219/219 [==============================] - 0s 1ms/step - loss: 0.4638 - accuracy: 0.8080\n",
      "Epoch 37/100\n",
      "219/219 [==============================] - 0s 1ms/step - loss: 0.4184 - accuracy: 0.8120\n",
      "Epoch 38/100\n",
      "219/219 [==============================] - 0s 1ms/step - loss: 0.4082 - accuracy: 0.8150\n",
      "Epoch 39/100\n",
      "219/219 [==============================] - 0s 1ms/step - loss: 0.4009 - accuracy: 0.8219\n",
      "Epoch 40/100\n",
      "219/219 [==============================] - 0s 1ms/step - loss: 0.3958 - accuracy: 0.8253\n",
      "Epoch 41/100\n",
      "219/219 [==============================] - 0s 1ms/step - loss: 0.3919 - accuracy: 0.8289\n",
      "Epoch 42/100\n",
      "219/219 [==============================] - 0s 1ms/step - loss: 0.3919 - accuracy: 0.8303\n",
      "Epoch 43/100\n",
      "219/219 [==============================] - 0s 1ms/step - loss: 0.3884 - accuracy: 0.8319\n",
      "Epoch 44/100\n",
      "219/219 [==============================] - 0s 1ms/step - loss: 0.3838 - accuracy: 0.8333\n",
      "Epoch 45/100\n",
      "219/219 [==============================] - 0s 1ms/step - loss: 0.3921 - accuracy: 0.8307\n",
      "Epoch 46/100\n",
      "219/219 [==============================] - 0s 1ms/step - loss: 0.3931 - accuracy: 0.8316\n",
      "Epoch 47/100\n",
      "219/219 [==============================] - 0s 1ms/step - loss: 0.3820 - accuracy: 0.8351\n",
      "Epoch 48/100\n",
      "219/219 [==============================] - 0s 1ms/step - loss: 0.3884 - accuracy: 0.8373\n",
      "Epoch 49/100\n",
      "219/219 [==============================] - 0s 1ms/step - loss: 0.3810 - accuracy: 0.8377\n",
      "Epoch 50/100\n",
      "219/219 [==============================] - 0s 2ms/step - loss: 0.3756 - accuracy: 0.8390\n",
      "Epoch 51/100\n",
      "219/219 [==============================] - 0s 2ms/step - loss: 0.3745 - accuracy: 0.8393\n",
      "Epoch 52/100\n",
      "219/219 [==============================] - 0s 1ms/step - loss: 0.3728 - accuracy: 0.8404\n",
      "Epoch 53/100\n",
      "219/219 [==============================] - 0s 1ms/step - loss: 0.3714 - accuracy: 0.8409\n",
      "Epoch 54/100\n",
      "219/219 [==============================] - 0s 1ms/step - loss: 0.3727 - accuracy: 0.8410\n",
      "Epoch 55/100\n",
      "219/219 [==============================] - 0s 1ms/step - loss: 0.3801 - accuracy: 0.8376\n",
      "Epoch 56/100\n",
      "219/219 [==============================] - 0s 1ms/step - loss: 0.3784 - accuracy: 0.8409\n",
      "Epoch 57/100\n",
      "219/219 [==============================] - 0s 1ms/step - loss: 0.3754 - accuracy: 0.8404\n",
      "Epoch 58/100\n",
      "219/219 [==============================] - 0s 1ms/step - loss: 0.3708 - accuracy: 0.8429\n",
      "Epoch 59/100\n",
      "219/219 [==============================] - 0s 1ms/step - loss: 0.3717 - accuracy: 0.8417\n",
      "Epoch 60/100\n",
      "219/219 [==============================] - 0s 1ms/step - loss: 0.3726 - accuracy: 0.8423\n",
      "Epoch 61/100\n",
      "219/219 [==============================] - 0s 1ms/step - loss: 0.3675 - accuracy: 0.8391\n",
      "Epoch 62/100\n",
      "219/219 [==============================] - 0s 1ms/step - loss: 0.3682 - accuracy: 0.8407\n",
      "Epoch 63/100\n",
      "219/219 [==============================] - 0s 1ms/step - loss: 0.3668 - accuracy: 0.8414\n",
      "Epoch 64/100\n",
      "219/219 [==============================] - 0s 1ms/step - loss: 0.3663 - accuracy: 0.8413\n",
      "Epoch 65/100\n",
      "219/219 [==============================] - 0s 1ms/step - loss: 0.3852 - accuracy: 0.8359\n",
      "Epoch 66/100\n",
      "219/219 [==============================] - 0s 1ms/step - loss: 0.3805 - accuracy: 0.8414\n",
      "Epoch 67/100\n",
      "219/219 [==============================] - 0s 1ms/step - loss: 0.3719 - accuracy: 0.8430\n",
      "Epoch 68/100\n",
      "219/219 [==============================] - 0s 1ms/step - loss: 0.3779 - accuracy: 0.8430\n",
      "Epoch 69/100\n",
      "219/219 [==============================] - 0s 1ms/step - loss: 0.3693 - accuracy: 0.8416\n",
      "Epoch 70/100\n",
      "219/219 [==============================] - 0s 1ms/step - loss: 0.3699 - accuracy: 0.8417\n",
      "Epoch 71/100\n",
      "219/219 [==============================] - 0s 1ms/step - loss: 0.3671 - accuracy: 0.8434\n",
      "Epoch 72/100\n",
      "219/219 [==============================] - 0s 1ms/step - loss: 0.3769 - accuracy: 0.8431\n",
      "Epoch 73/100\n",
      "219/219 [==============================] - 0s 1ms/step - loss: 0.3732 - accuracy: 0.8444\n",
      "Epoch 74/100\n",
      "219/219 [==============================] - 0s 1ms/step - loss: 0.3642 - accuracy: 0.8457\n",
      "Epoch 75/100\n",
      "219/219 [==============================] - 0s 1ms/step - loss: 0.3644 - accuracy: 0.8434\n",
      "Epoch 76/100\n",
      "219/219 [==============================] - 0s 1ms/step - loss: 0.3820 - accuracy: 0.8436\n",
      "Epoch 77/100\n",
      "219/219 [==============================] - 0s 1ms/step - loss: 0.3732 - accuracy: 0.8454\n",
      "Epoch 78/100\n",
      "219/219 [==============================] - 0s 1ms/step - loss: 0.3685 - accuracy: 0.8467\n",
      "Epoch 79/100\n",
      "219/219 [==============================] - 0s 1ms/step - loss: 0.3670 - accuracy: 0.8471\n",
      "Epoch 80/100\n",
      "219/219 [==============================] - 0s 1ms/step - loss: 0.3645 - accuracy: 0.8479\n",
      "Epoch 81/100\n"
     ]
    },
    {
     "name": "stdout",
     "output_type": "stream",
     "text": [
      "219/219 [==============================] - 0s 1ms/step - loss: 0.3633 - accuracy: 0.8464\n",
      "Epoch 82/100\n",
      "219/219 [==============================] - 0s 1ms/step - loss: 0.3645 - accuracy: 0.8473\n",
      "Epoch 83/100\n",
      "219/219 [==============================] - 0s 1ms/step - loss: 0.3613 - accuracy: 0.8470\n",
      "Epoch 84/100\n",
      "219/219 [==============================] - 0s 1ms/step - loss: 0.3890 - accuracy: 0.8377\n",
      "Epoch 85/100\n",
      "219/219 [==============================] - 0s 1ms/step - loss: 0.4380 - accuracy: 0.8347\n",
      "Epoch 86/100\n",
      "219/219 [==============================] - 0s 1ms/step - loss: 0.3854 - accuracy: 0.8484\n",
      "Epoch 87/100\n",
      "219/219 [==============================] - 0s 1ms/step - loss: 0.3745 - accuracy: 0.8471\n",
      "Epoch 88/100\n",
      "219/219 [==============================] - 0s 1ms/step - loss: 0.3686 - accuracy: 0.8467\n",
      "Epoch 89/100\n",
      "219/219 [==============================] - 0s 1ms/step - loss: 0.3673 - accuracy: 0.8469\n",
      "Epoch 90/100\n",
      "219/219 [==============================] - 0s 1ms/step - loss: 0.3641 - accuracy: 0.8479\n",
      "Epoch 91/100\n",
      "219/219 [==============================] - 0s 1ms/step - loss: 0.3613 - accuracy: 0.8477\n",
      "Epoch 92/100\n",
      "219/219 [==============================] - 0s 1ms/step - loss: 0.3619 - accuracy: 0.8480\n",
      "Epoch 93/100\n",
      "219/219 [==============================] - 0s 1ms/step - loss: 0.3598 - accuracy: 0.8489\n",
      "Epoch 94/100\n",
      "219/219 [==============================] - 0s 1ms/step - loss: 0.3598 - accuracy: 0.8471\n",
      "Epoch 95/100\n",
      "219/219 [==============================] - 0s 1ms/step - loss: 0.3579 - accuracy: 0.8504\n",
      "Epoch 96/100\n",
      "219/219 [==============================] - 0s 1ms/step - loss: 0.3574 - accuracy: 0.8476\n",
      "Epoch 97/100\n",
      "219/219 [==============================] - 0s 1ms/step - loss: 0.3570 - accuracy: 0.8493\n",
      "Epoch 98/100\n",
      "219/219 [==============================] - 0s 1ms/step - loss: 0.3582 - accuracy: 0.8486\n",
      "Epoch 99/100\n",
      "219/219 [==============================] - 0s 1ms/step - loss: 0.3596 - accuracy: 0.8486\n",
      "Epoch 100/100\n",
      "219/219 [==============================] - 0s 1ms/step - loss: 0.3569 - accuracy: 0.8497\n"
     ]
    },
    {
     "data": {
      "text/plain": [
       "<keras.src.callbacks.History at 0x2709df246d0>"
      ]
     },
     "execution_count": 103,
     "metadata": {},
     "output_type": "execute_result"
    }
   ],
   "source": [
    "ann.fit(X_train,y_train,batch_size=32,epochs=100)"
   ]
  },
  {
   "cell_type": "markdown",
   "id": "8460f06a",
   "metadata": {},
   "source": [
    "## 8. Evaluating accuracy "
   ]
  },
  {
   "cell_type": "code",
   "execution_count": 104,
   "id": "74d5a4b3",
   "metadata": {},
   "outputs": [
    {
     "name": "stdout",
     "output_type": "stream",
     "text": [
      "94/94 [==============================] - 0s 1ms/step - loss: 0.3752 - accuracy: 0.8467\n",
      "0.846666693687439\n"
     ]
    }
   ],
   "source": [
    "test_loss,test_accuracy = ann.evaluate(X_test,y_test)\n",
    "print(test_accuracy)"
   ]
  },
  {
   "cell_type": "code",
   "execution_count": 105,
   "id": "2b0d674c",
   "metadata": {},
   "outputs": [
    {
     "name": "stdout",
     "output_type": "stream",
     "text": [
      "219/219 [==============================] - 0s 1ms/step - loss: 0.3557 - accuracy: 0.8493\n",
      "0.846666693687439\n"
     ]
    }
   ],
   "source": [
    "train_loss,train_accuracy = ann.evaluate(X_train,y_train)\n",
    "print(test_accuracy)"
   ]
  }
 ],
 "metadata": {
  "kernelspec": {
   "display_name": "Python 3 (ipykernel)",
   "language": "python",
   "name": "python3"
  },
  "language_info": {
   "codemirror_mode": {
    "name": "ipython",
    "version": 3
   },
   "file_extension": ".py",
   "mimetype": "text/x-python",
   "name": "python",
   "nbconvert_exporter": "python",
   "pygments_lexer": "ipython3",
   "version": "3.12.4"
  }
 },
 "nbformat": 4,
 "nbformat_minor": 5
}
